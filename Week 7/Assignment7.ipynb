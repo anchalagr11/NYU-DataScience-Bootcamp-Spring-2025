{
  "nbformat": 4,
  "nbformat_minor": 0,
  "metadata": {
    "colab": {
      "provenance": []
    },
    "kernelspec": {
      "name": "python3",
      "display_name": "Python 3"
    },
    "language_info": {
      "name": "python"
    }
  },
  "cells": [
    {
      "cell_type": "markdown",
      "source": [
        "## Assignment 7"
      ],
      "metadata": {
        "id": "5n3b-3uU3oiD"
      }
    },
    {
      "cell_type": "markdown",
      "source": [
        "\n",
        "**1. ⁠How do you assess the statistical significance of an insight?**\n",
        "\n",
        "Statistical significance is a measure that helps determine whether the result of an analysis is likely to be genuine or if it could have occurred by chance. It is typically assessed using a p-value, which is a probability that measures the evidence against a null hypothesis (H₀). The p-value helps assess whether the observed effect or relationship is likely due to random variation or whether it represents a true underlying pattern.\n",
        "\n",
        "\n",
        "1. To assess the statistical significance of an insight, start by defining a null hypothesis (H0) and an alternative hypothesis (Ha) where the null hypothesis typically states that there is no significant effect or relationship, and the alternative hypothesis suggests that there is a significant effect or relationship.\n",
        "\n",
        "2. The significance level (α) is the threshold used to determine statistical significance, commonly set to 5% chance of incorrectly rejecting the null hypothesis.\n",
        "\n",
        "3. Collect the necessary data and conduct the appropriate statistical test as per the requirements.\n",
        "\n",
        "4. Calculate the p-value, representing the probability of observing the data or something more extreme under the null hypothesis.\n",
        "\n",
        "5. Compare the p-value to α:\n",
        "\n",
        "      - If p-value ≤ α, reject the null hypothesis indicating statistical significance and evidence in favor of the alternative hypothesis.\n",
        "\n",
        "      - If p-value > α, fail to reject the null hypothesis suggesting the result could be due to chance and not statistically significant.\n",
        "\n",
        "6. Consider the effect size and practical significance of the results.\n",
        "\n"
      ],
      "metadata": {
        "id": "P7a-hRfk3vfc"
      }
    },
    {
      "cell_type": "code",
      "execution_count": null,
      "metadata": {
        "colab": {
          "base_uri": "https://localhost:8080/"
        },
        "id": "DgzXo-tX3lQf",
        "outputId": "2d3eb928-fc3e-435b-da79-f6760327ce04"
      },
      "outputs": [
        {
          "output_type": "stream",
          "name": "stdout",
          "text": [
            "T-statistic: -1.2004900959975617\n",
            "P-value: 0.2642871794068635\n",
            "Fail to reject the null hypothesis: There is no statistically significant difference between the groups.\n"
          ]
        }
      ],
      "source": [
        "import numpy as np\n",
        "from scipy import stats\n",
        "\n",
        "control_group = np.array([55, 60, 65, 70, 75])\n",
        "experimental_group = np.array([60, 65, 70, 80, 85])\n",
        "\n",
        "alpha = 0.05\n",
        "\n",
        "#Conduct t-test\n",
        "t_statistic, p_value = stats.ttest_ind(control_group, experimental_group)\n",
        "\n",
        "print(f\"T-statistic: {t_statistic}\")\n",
        "print(f\"P-value: {p_value}\")\n",
        "\n",
        "if p_value <= alpha:\n",
        "    print(\"Reject the null hypothesis: There is a statistically significant difference between the groups.\")\n",
        "else:\n",
        "    print(\"Fail to reject the null hypothesis: There is no statistically significant difference between the groups.\")"
      ]
    },
    {
      "cell_type": "markdown",
      "source": [
        "**2. ⁠What is the Central Limit Theorem? Explain it. Why is it important?**\n",
        "\n",
        "Central Limit Theorem states that, regardless of the population's distribution (whether it’s normal or skewed), the distribution of the sample means will tend to follow a normal distribution as the sample size becomes larger, typically when the sample size is n ≥ 30.\n",
        "\n",
        "\n",
        "Let $$( X_1, X_2, \\dots, X_n ) $$ be i.i.d. random variables with expected value  $$\\mathbb{E}X_i = \\mu < \\infty $$ and $$variance 0 < \\text{Var}(X_i) = \\sigma^2 < \\infty $$ Then, the random variable\n",
        "\n",
        "\n",
        "$$\n",
        "Z_n = \\frac{\\overline{X} - \\mu}{\\sigma/\\sqrt{n}} = \\frac{X_1 + X_2 + \\dots + X_n - n\\mu}{\\sqrt{n}\\sigma}\n",
        "$$\n",
        "\n",
        "converges in distribution to the standard normal random variable as \\( n \\) goes to infinity, that is,\n",
        "\n",
        "$$\n",
        "\\lim_{n \\to \\infty} P(Z_n \\leq x) = \\Phi(x), \\quad \\text{for all } x \\in \\mathbb{R},\n",
        "$$\n",
        "\n",
        "where $$( \\Phi(x) )$$ is the standard normal CDF.\n",
        "\n",
        "\n",
        "**Conditions for CLT**\n",
        "1. The sample size should be sufficiently large, which is usually considered, n>=30.\n",
        "2. The samples are independent and identically distributed random variables.\n",
        "3. The population’s distribution has finite variance.\n",
        "\n",
        "**Importance of CLT**\n",
        "1. The CLT allows statisticians to make inferences about the population from sample data.\n",
        "2. The CLT helps in estimating population parameters and calculating how accurately a sample mean represents the true population mean\n",
        "3. In many real-world situations, collecting data from an entire population is impractical or impossible, so we rely on sample data. With the help of CLT, we can use relatively small sample sizes and still confidently make generalizations about the population.\n",
        "\n",
        "\n",
        "\n"
      ],
      "metadata": {
        "id": "gH4kX60U8mxW"
      }
    },
    {
      "cell_type": "markdown",
      "source": [
        "**3. What is the statistical power?**\n",
        "\n",
        "Statistical power is the probablity of observing a statistically significant result at level alpha (α) if a true effect of a certain magnitude is present. It is the likelihood of a significance test detecting an effect when there actually is one.\n",
        "\n",
        "High power means a low chance of Type II error (missing a real effect), while low power increases the risk of failing to detect an actual effect\n",
        "\n"
      ],
      "metadata": {
        "id": "cfQeDLhoE4zz"
      }
    },
    {
      "cell_type": "markdown",
      "source": [
        "**4. How do you control for biases?**\n",
        "\n",
        "\n"
      ],
      "metadata": {
        "id": "JnwLOEwMGV7E"
      }
    },
    {
      "cell_type": "markdown",
      "source": [
        "**5. What are confounding variables?**\n",
        "\n",
        "Cofounding variables are the type of extraneous variable that are related to a study's independent and dependent variables.\n",
        "A cofounder variable must be correlated with the independent variable as well as casually related to the dependent variable.\n",
        "\n",
        "Cofounder variables can distort or mask  true relationship between the variables being studied, leading to spurious or misleading associations.\n",
        "\n",
        "Example:\n",
        "\n",
        "*Investigating whether a drug improves blood pressure.*\n",
        "\n",
        "- Independent Variable: The drug being tested.\n",
        "- Dependent Variable: Blood pressure.\n",
        "- Cofounding Variable: Age. Older people might have relatively higher blood pressure and also more likely to take drug. So if the age is not controlled, the study might conclude that the drug is more effective in reducing blood pressure that it actually is.\n"
      ],
      "metadata": {
        "id": "YqdMITLAJALh"
      }
    },
    {
      "cell_type": "markdown",
      "source": [
        "**6. What is A/B testing?**\n",
        "\n",
        "A/B testing, also known as split testing, is a method of comparing two versions of a variable to determine which one performs better in achieving a desired outcome.\n",
        "\n",
        "In A/B testing, you randomly assign users or participants to two different versions of a product or experience.\n",
        "\n",
        "- Example: Consider if Netflic wanted to boost their user engagement by changing the artwork for the shows and movies. They ran an A/B test where half of users saw the original artwork (A) and the other half saw new, more expressive artwork (B). They analysed the results and updated the artwork accordingly.\n"
      ],
      "metadata": {
        "id": "YufOP35qLaqF"
      }
    },
    {
      "cell_type": "markdown",
      "source": [
        "**7. What are confidence intervals?**\n",
        "\n",
        "Confidence Intervals is a range of values,calculated from sample data, that are believed to contain the true population parameter a certain percentage of the time with a specified level of confidence. It gives you a estimated range that reflects uncertainty that might be present in sampling.\n",
        "\n",
        "The value of confidence intervals usually range bounded above and below statistic's mean."
      ],
      "metadata": {
        "id": "sXSZ0mDjMtGA"
      }
    }
  ]
}